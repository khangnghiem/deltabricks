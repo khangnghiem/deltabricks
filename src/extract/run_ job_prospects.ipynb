{
 "cells": [
  {
   "cell_type": "code",
   "execution_count": 0,
   "metadata": {
    "application/vnd.databricks.v1+cell": {
     "cellMetadata": {
      "byteLimit": 2048000,
      "rowLimit": 10000
     },
     "inputWidgets": {},
     "nuid": "be78fba7-c813-4fee-8699-7821bd370226",
     "showTitle": false,
     "tableResultSettingsMap": {},
     "title": ""
    }
   },
   "outputs": [],
   "source": [
    "%pip install scrapy\n",
    "%pip install scrapy_playwright\n",
    "%restart_python"
   ]
  },
  {
   "cell_type": "code",
   "execution_count": 0,
   "metadata": {
    "application/vnd.databricks.v1+cell": {
     "cellMetadata": {
      "byteLimit": 2048000,
      "rowLimit": 10000
     },
     "inputWidgets": {},
     "nuid": "5e862a96-ca92-479e-9e76-dd84b036ba60",
     "showTitle": false,
     "tableResultSettingsMap": {},
     "title": ""
    }
   },
   "outputs": [],
   "source": [
    "import subprocess\n",
    "import os\n",
    "from datetime import datetime\n",
    "\n",
    "today = datetime.today().strftime(\"%Y%m%d\")\n",
    "output_file = f\"tmp/{today}_job_1900.json\"\n",
    "local_file = f\"job_prospects/{output_file}\"\n",
    "\n",
    "subprocess.run(\n",
    "    [\"scrapy\", \"crawl\", \"job_1900\", \"-o\", output_file],\n",
    "    cwd=\"job_prospects\"\n",
    ")"
   ]
  },
  {
   "cell_type": "code",
   "execution_count": 0,
   "metadata": {
    "application/vnd.databricks.v1+cell": {
     "cellMetadata": {},
     "inputWidgets": {},
     "nuid": "0bee30bc-6d3e-4df8-9075-25826119d202",
     "showTitle": false,
     "tableResultSettingsMap": {},
     "title": ""
    }
   },
   "outputs": [],
   "source": [
    "volume_file = (\n",
    "    f\"/Volumes/dev/job_prospects/job_1900_bronze/{today}_vietnamworks.json\"\n",
    ")\n",
    "try:\n",
    "    with open(local_file, \"rb\") as src, open(volume_file, \"wb\") as dst:\n",
    "        dst.write(src.read())\n",
    "    os.remove(local_file)\n",
    "except Exception as e:\n",
    "    print(f\"Error during file copy or removal: {e}\")"
   ]
  },
  {
   "cell_type": "code",
   "execution_count": 0,
   "metadata": {
    "application/vnd.databricks.v1+cell": {
     "cellMetadata": {
      "byteLimit": 2048000,
      "rowLimit": 10000
     },
     "inputWidgets": {},
     "nuid": "3a39a027-8bc1-4444-9c7b-d303693d49da",
     "showTitle": false,
     "tableResultSettingsMap": {},
     "title": ""
    }
   },
   "outputs": [],
   "source": [
    "# import subprocess\n",
    "# import os\n",
    "# from datetime import datetime\n",
    "\n",
    "# today = datetime.today().strftime(\"%Y%m%d\")\n",
    "# output_file = f\"tmp/{today}_vietnamworks.json\"\n",
    "# local_file = f\"job_prospects/{output_file}\"\n",
    "\n",
    "# result = subprocess.run(\n",
    "#     [\"scrapy\", \"crawl\", \"vietnamworks\", \"-o\", output_file],\n",
    "#     cwd=\"job_prospects\",\n",
    "#     capture_output=True,\n",
    "#     text=True,\n",
    "# )\n",
    "# print(result.stdout)\n",
    "# print(result.stderr)"
   ]
  },
  {
   "cell_type": "code",
   "execution_count": 0,
   "metadata": {
    "application/vnd.databricks.v1+cell": {
     "cellMetadata": {
      "byteLimit": 2048000,
      "rowLimit": 10000
     },
     "inputWidgets": {},
     "nuid": "10dba7de-9f42-4691-8250-0779c97a251f",
     "showTitle": false,
     "tableResultSettingsMap": {},
     "title": ""
    }
   },
   "outputs": [],
   "source": [
    "\n",
    "# volume_file = (\n",
    "#     f\"/Volumes/dev/job_prospects/vietnamworks_bronze/{today}_vietnamworks.json\"\n",
    "# )\n",
    "\n",
    "# try:\n",
    "#     with open(local_file, \"rb\") as src, open(volume_file, \"wb\") as dst:\n",
    "#         dst.write(src.read())\n",
    "#     os.remove(local_file)\n",
    "# except Exception as e:\n",
    "#     print(f\"Error during file copy or removal: {e}\")"
   ]
  }
 ],
 "metadata": {
  "application/vnd.databricks.v1+notebook": {
   "computePreferences": {
    "hardware": {
     "accelerator": null,
     "gpuPoolId": null,
     "memory": null
    }
   },
   "dashboards": [],
   "environmentMetadata": {
    "base_environment": "",
    "environment_version": "4"
   },
   "inputWidgetPreferences": null,
   "language": "python",
   "notebookMetadata": {
    "pythonIndentUnit": 4
   },
   "notebookName": "run_ job_prospects",
   "widgets": {}
  },
  "language_info": {
   "name": "python"
  }
 },
 "nbformat": 4,
 "nbformat_minor": 0
}
