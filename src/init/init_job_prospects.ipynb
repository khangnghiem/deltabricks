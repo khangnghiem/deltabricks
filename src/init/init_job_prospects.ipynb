{
 "cells": [
  {
   "cell_type": "code",
   "execution_count": 0,
   "metadata": {
    "application/vnd.databricks.v1+cell": {
     "cellMetadata": {
      "byteLimit": 2048000,
      "implicitDf": true,
      "rowLimit": 10000
     },
     "inputWidgets": {},
     "nuid": "f3f8e867-8a26-44de-af08-26ad4198e993",
     "showTitle": false,
     "tableResultSettingsMap": {},
     "title": ""
    }
   },
   "outputs": [],
   "source": [
    "%sql\n",
    "CREATE CATALOG IF NOT EXISTS dev;\n",
    "CREATE CATALOG IF NOT EXISTS staging;\n",
    "CREATE CATALOG IF NOT EXISTS prod;\n",
    "CREATE CATALOG IF NOT EXISTS dev;"
   ]
  },
  {
   "cell_type": "code",
   "execution_count": 0,
   "metadata": {
    "application/vnd.databricks.v1+cell": {
     "cellMetadata": {
      "byteLimit": 2048000,
      "implicitDf": true,
      "rowLimit": 10000
     },
     "inputWidgets": {},
     "nuid": "389cb0c5-22ab-41f0-bc87-82acfd0ac8bd",
     "showTitle": false,
     "tableResultSettingsMap": {},
     "title": ""
    }
   },
   "outputs": [],
   "source": [
    "%sql\n",
    "CREATE SCHEMA IF NOT EXISTS dev.job_prospects;\n",
    "CREATE SCHEMA IF NOT EXISTS staging.job_prospects;\n",
    "CREATE SCHEMA IF NOT EXISTS prod.job_prospects;"
   ]
  },
  {
   "cell_type": "code",
   "execution_count": 0,
   "metadata": {
    "application/vnd.databricks.v1+cell": {
     "cellMetadata": {
      "byteLimit": 2048000,
      "implicitDf": true,
      "rowLimit": 10000
     },
     "inputWidgets": {},
     "nuid": "5f8f6d37-3c7d-43ad-bd19-6bd5070bb005",
     "showTitle": false,
     "tableResultSettingsMap": {},
     "title": ""
    }
   },
   "outputs": [],
   "source": [
    "%sql\n",
    "CREATE VOLUME IF NOT EXISTS dev.job_prospects.vietnamworks_bronze;\n",
    "CREATE VOLUME IF NOT EXISTS staging.job_prospects.vietnamworks_bronze;\n",
    "CREATE VOLUME IF NOT EXISTS prod.job_prospects.vietnamworks_bronze;\n",
    "\n",
    "CREATE VOLUME IF NOT EXISTS dev.job_prospects.job_1900_bronze;\n",
    "CREATE VOLUME IF NOT EXISTS staging.job_prospects.job_1900_bronze;\n",
    "CREATE VOLUME IF NOT EXISTS prod.job_prospects.job_1900_bronze;\n",
    "\n",
    "CREATE VOLUME IF NOT EXISTS dev.job_prospects.linkedin_bronze;\n",
    "CREATE VOLUME IF NOT EXISTS staging.job_prospects.linkedin_bronze;\n",
    "CREATE VOLUME IF NOT EXISTS prod.job_prospects.linkedin_bronze;"
   ]
  }
 ],
 "metadata": {
  "application/vnd.databricks.v1+notebook": {
   "computePreferences": null,
   "dashboards": [],
   "environmentMetadata": {
    "base_environment": "",
    "environment_version": "4"
   },
   "inputWidgetPreferences": null,
   "language": "python",
   "notebookMetadata": {
    "mostRecentlyExecutedCommandWithImplicitDF": {
     "commandId": 5586115432235180,
     "dataframes": [
      "_sqldf"
     ]
    },
    "pythonIndentUnit": 4
   },
   "notebookName": "init_job_prospects",
   "widgets": {}
  },
  "language_info": {
   "name": "python"
  }
 },
 "nbformat": 4,
 "nbformat_minor": 0
}
