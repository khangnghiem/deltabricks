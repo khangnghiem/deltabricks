{
 "cells": [
  {
   "cell_type": "code",
   "execution_count": 0,
   "metadata": {
    "application/vnd.databricks.v1+cell": {
     "cellMetadata": {
      "byteLimit": 2048000,
      "rowLimit": 10000
     },
     "inputWidgets": {},
     "nuid": "762a030b-db21-471c-9364-9bf9580dfd37",
     "showTitle": false,
     "tableResultSettingsMap": {},
     "title": ""
    }
   },
   "outputs": [],
   "source": [
    "def job_1900_silver():\n",
    "    bronze = spark.read.option(\"multiline\", \"true\").format(\"json\").load(\"/Volumes/dev/job_prospects/job_1900_bronze\")\n",
    "    return bronze\n",
    "\n",
    "df = job_1900_silver()"
   ]
  },
  {
   "cell_type": "code",
   "execution_count": 0,
   "metadata": {
    "application/vnd.databricks.v1+cell": {
     "cellMetadata": {
      "byteLimit": 2048000,
      "rowLimit": 10000
     },
     "inputWidgets": {},
     "nuid": "65461160-30b6-4f76-b33c-3620ab5e31ee",
     "showTitle": false,
     "tableResultSettingsMap": {
      "0": {
       "dataGridStateBlob": "{\"version\":1,\"tableState\":{\"columnPinning\":{\"left\":[\"#row_number#\"],\"right\":[]},\"columnSizing\":{},\"columnVisibility\":{}},\"settings\":{\"columns\":{\"company_ref\":{\"format\":{\"preset\":\"string-preset-url\"}},\"url\":{\"format\":{\"preset\":\"string-preset-url\"}}}},\"syncTimestamp\":1761406844527}",
       "filterBlob": null,
       "queryPlanFiltersBlob": null,
       "tableResultIndex": 0
      }
     },
     "title": ""
    }
   },
   "outputs": [],
   "source": [
    "display(df)\n",
    "df.dtypes\n",
    "display(df.select(\"timestamp\").distinct())"
   ]
  },
  {
   "cell_type": "code",
   "execution_count": 0,
   "metadata": {
    "application/vnd.databricks.v1+cell": {
     "cellMetadata": {
      "byteLimit": 2048000,
      "rowLimit": 10000
     },
     "inputWidgets": {},
     "nuid": "2c523f5c-06db-4546-b4a8-57c173cb65be",
     "showTitle": false,
     "tableResultSettingsMap": {
      "0": {
       "dataGridStateBlob": "{\"version\":1,\"tableState\":{\"columnPinning\":{\"left\":[\"#row_number#\"],\"right\":[]},\"columnSizing\":{},\"columnVisibility\":{}},\"settings\":{\"columns\":{\"company_ref\":{\"format\":{\"preset\":\"string-preset-url\"}},\"url\":{\"format\":{\"preset\":\"string-preset-url\"}}}},\"syncTimestamp\":1761471227170}",
       "filterBlob": null,
       "queryPlanFiltersBlob": null,
       "tableResultIndex": 0
      }
     },
     "title": ""
    }
   },
   "outputs": [],
   "source": [
    "from pyspark.sql import functions as F\n",
    "\n",
    "[\n",
    "    (\"application_deadline\", \"string\"),\n",
    "    (\"area\", \"string\"),\n",
    "    (\"company\", \"string\"),\n",
    "    (\"company_address\", \"string\"),\n",
    "    (\"company_rating\", \"string\"),\n",
    "    (\"company_ref\", \"string\"),\n",
    "    (\"company_size\", \"string\"),\n",
    "    (\"employement_type\", \"string\"),\n",
    "    (\"experience\", \"string\"),\n",
    "    (\"gender\", \"string\"),\n",
    "    (\"job_department\", \"string\"),\n",
    "    (\"job_description\", \"array<string>\"),\n",
    "    (\"job_field\", \"string\"),\n",
    "    (\"job_title\", \"string\"),\n",
    "    (\"number_of_jobs\", \"string\"),\n",
    "    (\"number_of_reviews\", \"string\"),\n",
    "    (\"posted_at\", \"string\"),\n",
    "    (\"quantity\", \"string\"),\n",
    "    (\"reviews\", \"array<string>\"),\n",
    "    (\"salary\", \"string\"),\n",
    "    (\"timestamp\", \"string\"),\n",
    "    (\"title\", \"string\"),\n",
    "    (\"url\", \"string\"),\n",
    "    (\"views\", \"string\"),\n",
    "    (\"work_address\", \"string\"),\n",
    "]\n",
    "\n",
    "bronze = df\n",
    "\n",
    "\n",
    "def parse_number(col):\n",
    "    return (\n",
    "        F.when(F.col(col).isNull() | (F.trim(F.col(col)) == \"\"), None)\n",
    "        .when(\n",
    "            F.col(col).rlike(r\"^\\s*\\d+(\\.\\d+)?\\s*[kK]\"),\n",
    "            (F.regexp_extract(col, r\"(\\d+(\\.\\d+)?)\", 1).cast(\"double\") * 1000).cast(\n",
    "                \"int\"\n",
    "            ),\n",
    "        )\n",
    "        .when(F.col(col).rlike(r\"\\d+\"), F.regexp_extract(col, r\"(\\d+)\", 1).cast(\"int\"))\n",
    "        .otherwise(None)\n",
    "    )\n",
    "\n",
    "\n",
    "def parse_min_salary(col):\n",
    "    return (\n",
    "        F.when(F.col(col).isNull() | (F.trim(F.col(col)) == \"\"), None)\n",
    "        .when(F.lower(F.trim(F.col(col))) == \"thoả thuận\", None)\n",
    "        .when(F.col(col).rlike(r\"(?i)^t[ơo]i\\s*|^tới\\s*\"), None)\n",
    "        .when(\n",
    "            F.col(col).rlike(r\"(?i)trên\\s*([0-9]+(?:[.,][0-9]+)?)\\s*([^\\d\\s-]+)\"),\n",
    "            F.concat(\n",
    "                F.regexp_extract(col, r\"(?i)trên\\s*([0-9]+(?:[.,][0-9]+)?)\", 1),\n",
    "                F.lit(\" \"),\n",
    "                F.regexp_extract(\n",
    "                    col, r\"(?i)trên\\s*[0-9]+(?:[.,][0-9]+)?\\s*([^\\d\\s-]+)\", 1\n",
    "                ),\n",
    "            ),\n",
    "        )\n",
    "        .when(\n",
    "            F.col(col).rlike(\n",
    "                r\"^\\s*([0-9]+(?:[.,][0-9]+)?)\\s*-\\s*([0-9]+(?:[.,][0-9]+)?)\\s*([^\\d\\s-]+)\"\n",
    "            ),\n",
    "            F.concat(\n",
    "                F.regexp_extract(col, r\"^\\s*([0-9]+(?:[.,][0-9]+)?)\", 1),\n",
    "                F.lit(\" \"),\n",
    "                F.regexp_extract(\n",
    "                    col,\n",
    "                    r\"^\\s*[0-9]+(?:[.,][0-9]+)?\\s*-\\s*[0-9]+(?:[.,][0-9]+)?\\s*([^\\d\\s-]+)\",\n",
    "                    1,\n",
    "                ),\n",
    "            ),\n",
    "        )\n",
    "        .otherwise(\n",
    "            F.trim(\n",
    "                F.concat(\n",
    "                    F.regexp_extract(col, r\"^\\s*([0-9]+(?:[.,][0-9]+)?)\", 1),\n",
    "                    F.lit(\" \"),\n",
    "                    F.regexp_extract(\n",
    "                        col, r\"^\\s*[0-9]+(?:[.,][0-9]+)?\\s*([^\\d\\s-]+)\", 1\n",
    "                    ),\n",
    "                )\n",
    "            )\n",
    "        )\n",
    "    )\n",
    "\n",
    "\n",
    "def parse_max_salary(col):\n",
    "    return (\n",
    "        F.when(F.col(col).isNull() | (F.trim(F.col(col)) == \"\"), None)\n",
    "        .when(F.lower(F.trim(F.col(col))) == \"thoả thuận\", None)\n",
    "        .when(F.col(col).rlike(r\"(?i)^trên\"), None)\n",
    "        .when(\n",
    "            F.col(col).rlike(r\"(?i)^t[ơo]i\\s*([0-9]+(?:[.,][0-9]+)?)\\s*(triệu|usd)\"),\n",
    "            F.concat(\n",
    "                F.regexp_extract(col, r\"(?i)^t[ơo]i\\s*([0-9]+(?:[.,][0-9]+)?)\", 1),\n",
    "                F.lit(\" \"),\n",
    "                F.regexp_extract(\n",
    "                    col, r\"(?i)^t[ơo]i\\s*[0-9]+(?:[.,][0-9]+)?\\s*(triệu|usd)\", 1\n",
    "                ),\n",
    "            ),\n",
    "        )\n",
    "        .when(\n",
    "            F.col(col).rlike(\n",
    "                r\"^\\s*([0-9]+(?:[.,][0-9]+)?)\\s*-\\s*([0-9]+(?:[.,][0-9]+)?)\\s*([^\\d\\s-]+)\"\n",
    "            ),\n",
    "            F.concat(\n",
    "                F.regexp_extract(\n",
    "                    col, r\"^\\s*([0-9]+(?:[.,][0-9]+)?)\\s*-\\s*([0-9]+(?:[.,][0-9]+)?)\", 2\n",
    "                ),\n",
    "                F.lit(\" \"),\n",
    "                F.regexp_extract(\n",
    "                    col,\n",
    "                    r\"^\\s*[0-9]+(?:[.,][0-9]+)?\\s*-\\s*([0-9]+(?:[.,][0-9]+)?)\\s*([^\\d\\s-]+)\",\n",
    "                    2,\n",
    "                ),\n",
    "            ),\n",
    "        )\n",
    "        .otherwise(\n",
    "            F.trim(\n",
    "                F.concat(\n",
    "                    F.regexp_extract(col, r\"([0-9]+(?:[.,][0-9]+)?)\", 1),\n",
    "                    F.lit(\" \"),\n",
    "                    F.regexp_extract(col, r\"([0-9]+(?:[.,][0-9]+)?)\\s*([^\\d\\s-]+)\", 2),\n",
    "                )\n",
    "            )\n",
    "        )\n",
    "    )\n",
    "\n",
    "\n",
    "def convert_to_usd(col):\n",
    "    return (\n",
    "        F.when(\n",
    "            F.col(col).rlike(r\"(?i)([0-9]+(?:[.,][0-9]+)?)\\s*triệu\"),\n",
    "            (\n",
    "                (\n",
    "                    F.regexp_replace(\n",
    "                        F.regexp_extract(F.col(col), r\"([0-9]+(?:[.,][0-9]+)?)\", 1),\n",
    "                        \",\",\n",
    "                        \".\",\n",
    "                    ).cast(\"double\")\n",
    "                    * 1_000_000\n",
    "                )\n",
    "                * 0.000038\n",
    "            ).cast(\"int\"),\n",
    "        )\n",
    "        .when(\n",
    "            F.col(col).rlike(r\"(?i)([0-9]+(?:[.,][0-9]+)?)\\s*usd\"),\n",
    "            F.regexp_replace(\n",
    "                F.regexp_extract(F.col(col), r\"([0-9]+(?:[.,][0-9]+)?)\", 1), \",\", \".\"\n",
    "            )\n",
    "            .cast(\"double\")\n",
    "            .cast(\"int\"),\n",
    "        )\n",
    "        .otherwise(None)\n",
    "    )\n",
    "\n",
    "def parse_float(col):\n",
    "    return (\n",
    "        F.when(F.col(col).isNull() | (F.trim(F.col(col)) == \"\"), None)\n",
    "        .otherwise(F.regexp_replace(F.col(col), \",\", \".\").cast(\"decimal(10,1)\"))\n",
    "    )\n",
    "\n",
    "def parse_min_experience(col):\n",
    "    return (\n",
    "        F.when(F.col(col).isNull() | (F.trim(F.col(col)) == \"\"), None)\n",
    "        .when(F.lower(F.trim(F.col(col))) == \"không yêu cầu\", F.lit(0))\n",
    "        .when(F.col(col).rlike(r\"(?i)^t[ơo]i\\s*[0-9]+(?:[.,][0-9]+)?\\s*năm\"), F.lit(0))\n",
    "        .when(F.col(col).rlike(r\"(?i)^t[ơo]i\\s*năm\"), F.lit(0))\n",
    "        .when(F.col(col).rlike(r\"(?i)^tới\\s*[0-9]+(?:[.,][0-9]+)?\\s*năm\"), F.lit(0))\n",
    "        .when(F.col(col).rlike(r\"(?i)^trên\\s*([0-9]+(?:[.,][0-9]+)?)\\s*năm\"),\n",
    "              F.regexp_replace(F.regexp_extract(col, r\"(?i)^trên\\s*([0-9]+(?:[.,][0-9]+)?)\", 1), \",\", \".\").cast(\"int\"))\n",
    "        .when(F.col(col).rlike(r\"([0-9]+(?:[.,][0-9]+)?)\\s*-\\s*([0-9]+(?:[.,][0-9]+)?)\\s*năm\"),\n",
    "              F.regexp_replace(F.regexp_extract(col, r\"([0-9]+(?:[.,][0-9]+)?)\\s*-\\s*([0-9]+(?:[.,][0-9]+)?)\", 1), \",\", \".\").cast(\"int\"))\n",
    "        .when(F.col(col).rlike(r\"([0-9]+(?:[.,][0-9]+)?)\\s*năm\"),\n",
    "              F.regexp_replace(F.regexp_extract(col, r\"([0-9]+(?:[.,][0-9]+)?)\\s*năm\", 1), \",\", \".\").cast(\"int\"))\n",
    "        .otherwise(None)\n",
    "    ).cast(\"int\")\n",
    "\n",
    "def parse_max_experience(col):\n",
    "    return (\n",
    "        F.when(F.col(col).isNull() | (F.trim(F.col(col)) == \"\"), None)\n",
    "        .when(F.lower(F.trim(F.col(col))) == \"không yêu cầu\", None)\n",
    "        .when(F.col(col).rlike(r\"(?i)^t[ơo]i\\s*[0-9]+(?:[.,][0-9]+)?\\s*năm\"), \n",
    "              F.regexp_replace(F.regexp_extract(col, r\"(?i)^t[ơo]i\\s*([0-9]+(?:[.,][0-9]+)?)\", 1), \",\", \".\").cast(\"int\"))\n",
    "        .when(F.col(col).rlike(r\"(?i)^t[ơo]i\\s*năm\"), None)\n",
    "        .when(F.col(col).rlike(r\"(?i)^tới\\s*[0-9]+(?:[.,][0-9]+)?\\s*năm\"), \n",
    "              F.regexp_replace(F.regexp_extract(col, r\"(?i)^tới\\s*([0-9]+(?:[.,][0-9]+)?)\", 1), \",\", \".\").cast(\"int\"))\n",
    "        .when(F.col(col).rlike(r\"(?i)^trên\\s*([0-9]+(?:[.,][0-9]+)?)\\s*năm\"), None)\n",
    "        .when(F.col(col).rlike(r\"([0-9]+(?:[.,][0-9]+)?)\\s*-\\s*([0-9]+(?:[.,][0-9]+)?)\\s*năm\"),\n",
    "              F.regexp_replace(F.regexp_extract(col, r\"([0-9]+(?:[.,][0-9]+)?)\\s*-\\s*([0-9]+(?:[.,][0-9]+)?)\", 2), \",\", \".\").cast(\"int\"))\n",
    "        .when(F.col(col).rlike(r\"([0-9]+(?:[.,][0-9]+)?)\\s*năm\"),\n",
    "              F.regexp_replace(F.regexp_extract(col, r\"([0-9]+(?:[.,][0-9]+)?)\\s*năm\", 1), \",\", \".\").cast(\"int\"))\n",
    "        .otherwise(None)\n",
    "    ).cast(\"int\")\n",
    "\n",
    "def parse_area(col):\n",
    "    return F.array_distinct(\n",
    "        F.transform(\n",
    "            F.split(\n",
    "                F.regexp_replace(\n",
    "                    F.regexp_replace(F.col(col), r\"\\s*-\\s*Việc làm tại\\s*\", \"|\"),\n",
    "                    r\"\\s*-\\s*\", \"|\"\n",
    "                ),\n",
    "                r\"\\|\"\n",
    "            ),\n",
    "            lambda x: F.trim(x)\n",
    "        )\n",
    "    )\n",
    "\n",
    "bronze = bronze.withColumns(\n",
    "    {\n",
    "        \"timestamp\": F.to_date(\"timestamp\"),\n",
    "        \"number_of_reviews\": parse_number(\"number_of_reviews\"),\n",
    "        \"number_of_jobs\": parse_number(\"number_of_jobs\"),\n",
    "        \"views\": parse_number(\"views\"),\n",
    "        \"salary_low\": parse_min_salary(\"salary\"),\n",
    "        \"salary_high\": parse_max_salary(\"salary\"),\n",
    "        \"posted_at\": F.to_date(F.col(\"posted_at\"), \"dd/MM/yyyy\"),\n",
    "        \"quantity\": parse_number(\"quantity\"),\n",
    "        \"application_deadline\": F.try_to_date(F.col(\"application_deadline\"), \"dd/MM/yyyy\"),\n",
    "        \"minimum_experience\": parse_min_experience(\"experience\"),\n",
    "        \"maximum_experience\": parse_max_experience(\"experience\"),\n",
    "        # gender\n",
    "        # \"job_description\": F.when(\n",
    "        #     F.col(\"job_description\").isNotNull(),\n",
    "        #     F.expr(\"concat_ws('\\n', job_description)\")\n",
    "        # ).otherwise(None),\n",
    "        \"company_size\": parse_number(\"company_size\"),\n",
    "        \"company_rating\": parse_float(\"company_rating\"),\n",
    "        \"area\": parse_area(\"area\")\n",
    "    }\n",
    ")\n",
    "bronze = bronze.withColumns(\n",
    "    {\n",
    "        \"salary_low\": convert_to_usd(\"salary_low\"),\n",
    "        \"salary_high\": convert_to_usd(\"salary_high\"),\n",
    "    }\n",
    ")\n",
    "\n",
    "display(bronze)"
   ]
  },
  {
   "cell_type": "code",
   "execution_count": 0,
   "metadata": {
    "application/vnd.databricks.v1+cell": {
     "cellMetadata": {
      "byteLimit": 2048000,
      "rowLimit": 10000
     },
     "inputWidgets": {},
     "nuid": "2d379e01-1d13-4569-9d58-52d2c09cb18e",
     "showTitle": false,
     "tableResultSettingsMap": {
      "0": {
       "dataGridStateBlob": "{\"version\":1,\"tableState\":{\"columnPinning\":{\"left\":[\"#row_number#\"],\"right\":[]},\"columnSizing\":{},\"columnVisibility\":{}},\"settings\":{\"columns\":{}},\"syncTimestamp\":1761470742571}",
       "filterBlob": null,
       "queryPlanFiltersBlob": null,
       "tableResultIndex": 0
      },
      "1": {
       "dataGridStateBlob": "{\"version\":1,\"tableState\":{\"columnPinning\":{\"left\":[\"#row_number#\"],\"right\":[]},\"columnSizing\":{},\"columnVisibility\":{}},\"settings\":{\"columns\":{}},\"syncTimestamp\":1761472569727}",
       "filterBlob": null,
       "queryPlanFiltersBlob": null,
       "tableResultIndex": 1
      }
     },
     "title": ""
    }
   },
   "outputs": [],
   "source": [
    "display(bronze.dropDuplicates([\"area\"]).sort(\"area\").select(\"area\"))\n",
    "display(df.dropDuplicates([\"area\"]).sort(\"area\").select(\"area\"))\n",
    "# display(df.select(\"job_department\",\"job_field\", \"job_description\", \"url\", \"salary\", \"experience\").filter(F.col(\"experience\") == \"25 - 33 năm\"))"
   ]
  },
  {
   "cell_type": "code",
   "execution_count": 0,
   "metadata": {
    "application/vnd.databricks.v1+cell": {
     "cellMetadata": {
      "byteLimit": 2048000,
      "rowLimit": 10000
     },
     "inputWidgets": {},
     "nuid": "8091ee8c-d8cc-416a-be14-f99f1635bca7",
     "showTitle": false,
     "tableResultSettingsMap": {
      "0": {
       "dataGridStateBlob": "{\"version\":1,\"tableState\":{\"columnPinning\":{\"left\":[\"#row_number#\"],\"right\":[]},\"columnSizing\":{},\"columnVisibility\":{}},\"settings\":{\"columns\":{}},\"syncTimestamp\":1761413009838}",
       "filterBlob": null,
       "queryPlanFiltersBlob": null,
       "tableResultIndex": 0
      }
     },
     "title": ""
    }
   },
   "outputs": [],
   "source": [
    "display(bronze.dropDuplicates([\"salary\"]).select(\"salary_high\").sort(\"salary\"))\n",
    "display(df.dropDuplicates([\"salary\"]).select(\"salary\").sort(\"salary\"))"
   ]
  },
  {
   "cell_type": "code",
   "execution_count": 0,
   "metadata": {
    "application/vnd.databricks.v1+cell": {
     "cellMetadata": {
      "byteLimit": 2048000,
      "rowLimit": 10000
     },
     "inputWidgets": {},
     "nuid": "d2dcf7a3-94bc-41e5-bd8b-0e705ef28b8d",
     "showTitle": false,
     "tableResultSettingsMap": {},
     "title": ""
    }
   },
   "outputs": [],
   "source": [
    "# Test cases for parse_number\n",
    "test_data = [\n",
    "    (\"100\", 100),\n",
    "    (\"2k\", 2000),\n",
    "    (\"3.5K\", 3500),\n",
    "    (\" 7 K \", 7000),\n",
    "    (\"12\", 12),\n",
    "    (\"0\", 0),\n",
    "    (\"\", None),\n",
    "    (None, None),\n",
    "    (\"abc\", None),\n",
    "    (\"1.2k\", 1200),\n",
    "    (\"999\", 999),\n",
    "    (\"5.7k\", 5700),\n",
    "]\n",
    "\n",
    "test_df = spark.createDataFrame(test_data, [\"input\", \"expected\"])\n",
    "result_df = test_df.withColumn(\"parsed\", parse_number(\"input\"))\n",
    "display(result_df)\n",
    "\n",
    "mismatches = result_df.filter(~(F.col(\"parsed\").eqNullSafe(F.col(\"expected\"))))\n",
    "assert mismatches.count() == 0, \"parse_number failed for some test cases\""
   ]
  }
 ],
 "metadata": {
  "application/vnd.databricks.v1+notebook": {
   "computePreferences": {
    "hardware": {
     "accelerator": null,
     "gpuPoolId": null,
     "memory": null
    }
   },
   "dashboards": [],
   "environmentMetadata": {
    "base_environment": "",
    "environment_version": "4"
   },
   "inputWidgetPreferences": null,
   "language": "python",
   "notebookMetadata": {
    "pythonIndentUnit": 4
   },
   "notebookName": "clean_job_prospects",
   "widgets": {}
  },
  "language_info": {
   "name": "python"
  }
 },
 "nbformat": 4,
 "nbformat_minor": 0
}
